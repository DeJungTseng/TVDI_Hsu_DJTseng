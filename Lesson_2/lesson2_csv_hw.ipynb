{
 "cells": [
  {
   "cell_type": "code",
   "execution_count": 14,
   "metadata": {},
   "outputs": [
    {
     "name": "stdout",
     "output_type": "stream",
     "text": [
      "{'Name': '老鷹', 'age': '33', 'add': '台北市', 'hobbit': '肚子餓'}\n",
      "{'Name': '兔兔', 'age': '44', 'add': '新北市', 'hobbit': '跳跳'}\n",
      "{'Name': '喵喵', 'age': '22', 'add': '台中市', 'hobbit': '翻肚'}\n",
      "{'Name': '海豹', 'age': '33', 'add': '阿拉斯加', 'hobbit': '滾動'}\n",
      "{'Name': '海獺', 'age': '33', 'add': '彰化縣', 'hobbit': '寫講義'}\n"
     ]
    }
   ],
   "source": [
    "import csv\n",
    "\n",
    "with open('student.csv',encoding='UTF-8') as file:\n",
    "    stu_data=csv.reader(file)\n",
    "    key=next(stu_data)#用next function將stu_data中的第一列內容讀取並做成新列，字典格式將以key[]列的索引值作為鍵\n",
    "    # print(type(stu_data))\n",
    "    dict_students=[]\n",
    "    for row in stu_data:\n",
    "        students={key[i]:value for i, value in enumerate(row)}#用enumerate函式在一個row裡面按照item index，將key的索引值和value的索引值依序排列。\n",
    "        print(students)\n",
    "        dict_students.append(students)#將student字典條目存入dict_student串列中以待提取\n",
    "\n",
    "\n",
    "\n",
    "    "
   ]
  },
  {
   "cell_type": "code",
   "execution_count": 17,
   "metadata": {},
   "outputs": [
    {
     "name": "stdout",
     "output_type": "stream",
     "text": [
      "{'Name': '老鷹', 'age': '33', 'add': '台北市', 'hobbit': '肚子餓'}\n",
      "{'Name': '兔兔', 'age': '44', 'add': '新北市', 'hobbit': '跳跳'}\n",
      "{'Name': '海豹', 'age': '33', 'add': '阿拉斯加', 'hobbit': '滾動'}\n",
      "{'Name': '海獺', 'age': '33', 'add': '彰化縣', 'hobbit': '寫講義'}\n"
     ]
    }
   ],
   "source": [
    "for students in dict_students:#由dict_students串列中的students元素去尋找\n",
    "    age=int(students['age'])#age鍵中的value在字典中為str，轉為int之後指派給age變數\n",
    "    stu_over25=[]\n",
    "    if age > 25:\n",
    "        print(students)\n",
    "        stu_over25.append(students)#篩選出25歲以上的學生之後，存入stu_over25串列中"
   ]
  },
  {
   "cell_type": "code",
   "execution_count": 23,
   "metadata": {},
   "outputs": [],
   "source": [
    "with open('stu_over25.csv','w',newline='',encoding='UTF-8') as csvfile:#讀寫檔案都用open\n",
    "    fieldnames=['Name','age','add','hobbit']#使用csv.DictWriter，先定義fieldnames作為首行\n",
    "    writer=csv.DictWriter(csvfile,fieldnames=fieldnames)\n",
    "\n",
    "    writer.writeheader()\n",
    "    writer.writerow({'Name': '老鷹', 'age': '33', 'add': '台北市', 'hobbit': '肚子餓'})\n",
    "    writer.writerow({'Name': '兔兔', 'age': '44', 'add': '新北市', 'hobbit': '跳跳'})\n",
    "    writer.writerow({'Name': '海豹', 'age': '33', 'add': '阿拉斯加', 'hobbit': '滾動'})\n",
    "    writer.writerow({'Name': '海獺', 'age': '33', 'add': '彰化縣', 'hobbit': '寫講義'})"
   ]
  },
  {
   "cell_type": "code",
   "execution_count": 24,
   "metadata": {},
   "outputs": [
    {
     "name": "stdout",
     "output_type": "stream",
     "text": [
      "['Name', 'age', 'add', 'hobbit']\n",
      "['老鷹', '33', '台北市', '肚子餓']\n",
      "['兔兔', '44', '新北市', '跳跳']\n",
      "['海豹', '33', '阿拉斯加', '滾動']\n",
      "['海獺', '33', '彰化縣', '寫講義']\n"
     ]
    }
   ],
   "source": [
    "with open('stu_over25.csv',encoding='UTF-8') as file:\n",
    "    stu_over25_data=csv.reader(file)\n",
    "    for row in stu_over25_data:\n",
    "        print(row)"
   ]
  }
 ],
 "metadata": {
  "kernelspec": {
   "display_name": "240904TVDI",
   "language": "python",
   "name": "python3"
  },
  "language_info": {
   "codemirror_mode": {
    "name": "ipython",
    "version": 3
   },
   "file_extension": ".py",
   "mimetype": "text/x-python",
   "name": "python",
   "nbconvert_exporter": "python",
   "pygments_lexer": "ipython3",
   "version": "3.11.10"
  }
 },
 "nbformat": 4,
 "nbformat_minor": 2
}
