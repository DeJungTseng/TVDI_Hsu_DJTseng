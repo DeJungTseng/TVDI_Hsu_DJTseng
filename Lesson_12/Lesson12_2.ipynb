{
 "cells": [
  {
   "cell_type": "code",
   "execution_count": 2,
   "metadata": {},
   "outputs": [
    {
     "data": {
      "text/plain": [
       "'2.10.1'"
      ]
     },
     "execution_count": 2,
     "metadata": {},
     "output_type": "execute_result"
    }
   ],
   "source": [
    "import pydantic\n",
    "pydantic.__version__"
   ]
  },
  {
   "cell_type": "code",
   "execution_count": 4,
   "metadata": {},
   "outputs": [
    {
     "data": {
      "text/plain": [
       "('Bala', 'HoJa', '100')"
      ]
     },
     "execution_count": 4,
     "metadata": {},
     "output_type": "execute_result"
    }
   ],
   "source": [
    "class Person:\n",
    "    def __init__(self,f_name:str,l_name:str,age:int):\n",
    "        self.first_name = f_name\n",
    "        self.last_name = l_name\n",
    "        self.age = age\n",
    "\n",
    "p1:Person=Person(\"Bala\",\"HoJa\",age=\"100\")\n",
    "\n",
    "p1.first_name,p1.last_name, p1.age"
   ]
  },
  {
   "cell_type": "code",
   "execution_count": null,
   "metadata": {},
   "outputs": [
    {
     "data": {
      "text/plain": [
       "('Longo', 'HoJa', 120)"
      ]
     },
     "execution_count": 5,
     "metadata": {},
     "output_type": "execute_result"
    }
   ],
   "source": [
    "from pydantic import BaseModel\n",
    "# BaseModel is the model to be inherited\n",
    "\n",
    "class Person(BaseModel):\n",
    "    # Field (column)\n",
    "    first_name: str\n",
    "    last_name: str\n",
    "    age: int\n",
    "\n",
    "p1=Person(first_name=\"Lingo\",last_name=\"HoJa\",age=\"120\")\n",
    "p1.first_name,p1.last_name,p1.age"
   ]
  },
  {
   "cell_type": "code",
   "execution_count": 1,
   "metadata": {},
   "outputs": [
    {
     "ename": "NameError",
     "evalue": "name 'Person' is not defined",
     "output_type": "error",
     "traceback": [
      "\u001b[1;31m---------------------------------------------------------------------------\u001b[0m",
      "\u001b[1;31mNameError\u001b[0m                                 Traceback (most recent call last)",
      "Cell \u001b[1;32mIn[1], line 3\u001b[0m\n\u001b[0;32m      1\u001b[0m \u001b[38;5;28;01mfrom\u001b[39;00m \u001b[38;5;21;01mpydantic\u001b[39;00m \u001b[38;5;28;01mimport\u001b[39;00m ValidationError\n\u001b[0;32m      2\u001b[0m \u001b[38;5;28;01mtry\u001b[39;00m:\n\u001b[1;32m----> 3\u001b[0m     p2\u001b[38;5;241m=\u001b[39m\u001b[43mPerson\u001b[49m(first_name\u001b[38;5;241m=\u001b[39m\u001b[38;5;124m\"\u001b[39m\u001b[38;5;124mLongo\u001b[39m\u001b[38;5;124m\"\u001b[39m,last_name\u001b[38;5;241m=\u001b[39m\u001b[38;5;124m\"\u001b[39m\u001b[38;5;124mHoJa\u001b[39m\u001b[38;5;124m\"\u001b[39m,age\u001b[38;5;241m=\u001b[39m\u001b[38;5;124m\"\u001b[39m\u001b[38;5;124m120n\u001b[39m\u001b[38;5;124m\"\u001b[39m)\n\u001b[0;32m      4\u001b[0m \u001b[38;5;28;01mexcept\u001b[39;00m ValidationError \u001b[38;5;28;01mas\u001b[39;00m e:\n\u001b[0;32m      5\u001b[0m     \u001b[38;5;28mprint\u001b[39m(e)\n",
      "\u001b[1;31mNameError\u001b[0m: name 'Person' is not defined"
     ]
    }
   ],
   "source": [
    "from pydantic import ValidationError\n",
    "try:\n",
    "    p2=Person(first_name=\"Longo\",last_name=\"HoJa\",age=\"120n\")\n",
    "except ValidationError as e:\n",
    "    print(e)"
   ]
  },
  {
   "cell_type": "code",
   "execution_count": 8,
   "metadata": {},
   "outputs": [
    {
     "data": {
      "text/plain": [
       "('Eagle', 'Tseng', 120)"
      ]
     },
     "execution_count": 8,
     "metadata": {},
     "output_type": "execute_result"
    }
   ],
   "source": [
    "# create a dictionary for class Person\n",
    "dict_data:dict[str,any]={\n",
    "    \"first_name\":\"Eagle\",\n",
    "    \"last_name\":\"Tseng\",\n",
    "    \"age\":\"120\"\n",
    "}\n",
    "p2:Person=Person.model_validate(dict_data)\n",
    "p2.first_name,p2.last_name,p2.age"
   ]
  },
  {
   "cell_type": "code",
   "execution_count": 12,
   "metadata": {},
   "outputs": [
    {
     "data": {
      "text/plain": [
       "('Eagle', 'Tseng', 120)"
      ]
     },
     "execution_count": 12,
     "metadata": {},
     "output_type": "execute_result"
    }
   ],
   "source": [
    "# json format str: multiple row of str\n",
    "# '''{object}'''\n",
    "data_json:str='''\n",
    "    {\n",
    "    \"first_name\":\"Eagle\",\n",
    "    \"last_name\":\"Tseng\",\n",
    "    \"age\":\"120\"\n",
    "    }\n",
    "'''\n",
    "p3:Person=Person.model_validate_json(data_json)\n",
    "p3.first_name,p3.last_name,p3.age\n"
   ]
  },
  {
   "cell_type": "code",
   "execution_count": null,
   "metadata": {},
   "outputs": [
    {
     "data": {
      "text/plain": [
       "Person(first_name='Eagle', last_name='Tseng', age=0)"
      ]
     },
     "execution_count": 15,
     "metadata": {},
     "output_type": "execute_result"
    }
   ],
   "source": [
    "class Person(BaseModel):\n",
    "    # Field (column)\n",
    "    first_name: str\n",
    "    last_name: str\n",
    "    age: int=120\n",
    "    # the attribute set  default value is optional\n",
    "Person.model_validate({'first_name':'Eagle','last_name':'Tseng'})\n"
   ]
  },
  {
   "cell_type": "code",
   "execution_count": 16,
   "metadata": {},
   "outputs": [
    {
     "data": {
      "text/plain": [
       "{'first_name': FieldInfo(annotation=Union[str, NoneType], required=False, default=None),\n",
       " 'last_name': FieldInfo(annotation=str, required=True),\n",
       " 'age': FieldInfo(annotation=int, required=False, default=120)}"
      ]
     },
     "execution_count": 16,
     "metadata": {},
     "output_type": "execute_result"
    }
   ],
   "source": [
    "# NULLable Fields \n",
    "class Person(BaseModel):\n",
    "    # None is a type, so make it optional\n",
    "    first_name: str | None = None  #optional and Nullable\n",
    "    last_name:str # required\n",
    "    age:int=120 #optional\n",
    "\n",
    "Person.model_fields"
   ]
  },
  {
   "cell_type": "code",
   "execution_count": 18,
   "metadata": {},
   "outputs": [
    {
     "data": {
      "text/plain": [
       "Person(first_name=None, last_name='Tseng', age=120)"
      ]
     },
     "execution_count": 18,
     "metadata": {},
     "output_type": "execute_result"
    }
   ],
   "source": [
    "p5=Person.model_validate({\"last_name\":\"Tseng\"})\n",
    "p5"
   ]
  },
  {
   "cell_type": "code",
   "execution_count": 21,
   "metadata": {},
   "outputs": [
    {
     "data": {
      "text/plain": [
       "Person(id_=100, first_name='Eagle', last_name='tESNG', age=120)"
      ]
     },
     "execution_count": 21,
     "metadata": {},
     "output_type": "execute_result"
    }
   ],
   "source": [
    "data={\n",
    "    \"id\":100,\n",
    "    \"First Name\":\"Eagle\",\n",
    "    \"LASTNAME\":\"tESNG\",\n",
    "    \"age in years\":\"120\"\n",
    "}\n",
    "from pydantic import Field\n",
    "# when getting the key that cannot become validate key name\n",
    "class Person(BaseModel):\n",
    "    id_:int=Field(alias=\"id\")\n",
    "    first_name:str=Field(alias=\"First Name\")\n",
    "    last_name:str=Field(alias=\"LASTNAME\")\n",
    "    age:int=Field(alias=\"age in years\",default=120)\n",
    "\n",
    "p6=Person.model_validate(data)\n",
    "p6"
   ]
  },
  {
   "cell_type": "code",
   "execution_count": null,
   "metadata": {},
   "outputs": [],
   "source": []
  }
 ],
 "metadata": {
  "kernelspec": {
   "display_name": "240904TVDI",
   "language": "python",
   "name": "python3"
  },
  "language_info": {
   "codemirror_mode": {
    "name": "ipython",
    "version": 3
   },
   "file_extension": ".py",
   "mimetype": "text/x-python",
   "name": "python",
   "nbconvert_exporter": "python",
   "pygments_lexer": "ipython3",
   "version": "3.11.10"
  }
 },
 "nbformat": 4,
 "nbformat_minor": 2
}
