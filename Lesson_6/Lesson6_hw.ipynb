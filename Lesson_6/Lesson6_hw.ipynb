{
 "cells": [
  {
   "cell_type": "code",
   "execution_count": null,
   "metadata": {},
   "outputs": [],
   "source": [
    "import requests\n",
    "\n",
    "url=\"https://data.moenv.gov.tw/api/v2/aqx_p_488?api_key=e8dd42e6-9b8b-43f8-991e-b3dee723a52d&limit=1000&sort=datacreationdate%20desc&format=JSON\"\n",
    "try:\n",
    "    response=requests.get(url)\n",
    "    response.raise_for_status()\n",
    "    data=response.json()\n",
    "except Exception as e:\n",
    "    print(e)\n",
    "else:\n",
    "    outerlist=[]\n",
    "    for items in data['records']:\n",
    "        innerlist=[items['datacreationdate'],items['county'],items['aqi'],items['pm2.5'],items['status'],items['longitude'],items['latitude']]\n",
    "        outerlist.append(innerlist)"
   ]
  }
 ],
 "metadata": {
  "kernelspec": {
   "display_name": "240904TVDI",
   "language": "python",
   "name": "python3"
  },
  "language_info": {
   "name": "python",
   "version": "3.11.10"
  }
 },
 "nbformat": 4,
 "nbformat_minor": 2
}
