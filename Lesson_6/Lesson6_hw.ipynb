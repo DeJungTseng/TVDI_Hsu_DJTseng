{
 "cells": [
  {
   "cell_type": "markdown",
   "metadata": {},
   "source": [
    "#### Here's the manual of sqllite3\n",
    "https://docs.python.org/3/library/sqlite3.html"
   ]
  },
  {
   "cell_type": "code",
   "execution_count": 2,
   "metadata": {},
   "outputs": [
    {
     "name": "stdout",
     "output_type": "stream",
     "text": [
      "HTTPSConnectionPool(host='data.moenv.gov.tw', port=443): Max retries exceeded with url: /api/v2/aqx_p_488?api_key=e8dd42e6-9b8b-43f8-991e-b3dee723a52d&limit=1000&sort=datacreationdate%20desc&format=JSON (Caused by NameResolutionError(\"<urllib3.connection.HTTPSConnection object at 0x0000017B10821A90>: Failed to resolve 'data.moenv.gov.tw' ([Errno 11001] getaddrinfo failed)\"))\n"
     ]
    }
   ],
   "source": [
    "import requests\n",
    "import sqlite3\n",
    "# get the file by requests function\n",
    "url=\"https://data.moenv.gov.tw/api/v2/aqx_p_488?api_key=e8dd42e6-9b8b-43f8-991e-b3dee723a52d&limit=1000&sort=datacreationdate%20desc&format=JSON\"\n",
    "try:\n",
    "    response=requests.get(url)\n",
    "    response.raise_for_status()\n",
    "    data=response.json()\n",
    "except Exception as e:\n",
    "    print(e)\n",
    "else:\n",
    "    # connect to sqllite3\n",
    "    conn=sqlite3.connect(\"AQI.db\")\n",
    "    # execute DB by cursor\n",
    "    cursor=conn.cursor()\n",
    "    # insert SQL, values(?)make it possible to fill in the value\n",
    "    insertSQL='''\n",
    "    INSERT INTO records(sitename,county,aqi,status,pm25,date,lat,lon)\n",
    "    values(?,?,?,?,?,?,?,?)\n",
    "    '''\n",
    "    # get the values from each item in data['records']\n",
    "    for item in data['records']:\n",
    "        values=(\n",
    "            item['sitename'],\n",
    "            item['county'],\n",
    "            item['aqi'],\n",
    "            item['status'],\n",
    "            item['pm2.5'],\n",
    "            item['datacreationdate'],\n",
    "            item['latitude'],\n",
    "            item['longitude']\n",
    "        )\n",
    "        # Create a table\n",
    "        cursor.execute(insertSQL,values)\n",
    "    # commit the changes and close\n",
    "    conn.commit()\n",
    "    cursor.close()\n",
    "    conn.close()"
   ]
  },
  {
   "cell_type": "markdown",
   "metadata": {},
   "source": [
    "#### 查找重複值"
   ]
  },
  {
   "cell_type": "code",
   "execution_count": 5,
   "metadata": {},
   "outputs": [],
   "source": [
    "# primary key is set as 'sitename' and 'date'. \n",
    "# once the collection of these two key appear more than once, it's regard as duplicate value.\n",
    "conn=sqlite3.connect(\"AQI.db\")\n",
    "cursor=conn.cursor()\n",
    "# define the query\n",
    "query = '''\n",
    "SELECT sitename, date, COUNT(*) as count\n",
    "FROM records\n",
    "GROUP BY sitename, date\n",
    "HAVING count > 1\n",
    "'''\n",
    "cursor.execute(query)\n",
    "\n",
    "#get the duplicated value\n",
    "duplicates = cursor.fetchall()\n",
    "for row in duplicates:\n",
    "    print(f\"Sitename: {row[0]}, Date: {row[1]}, Count: {row[2]}\")\n",
    "# close\n",
    "cursor.close()\n",
    "conn.close()"
   ]
  },
  {
   "cell_type": "markdown",
   "metadata": {},
   "source": [
    "#### remove the duplicated value"
   ]
  },
  {
   "cell_type": "code",
   "execution_count": 6,
   "metadata": {},
   "outputs": [
    {
     "name": "stdout",
     "output_type": "stream",
     "text": [
      "去重後的資料長度: 576\n"
     ]
    }
   ],
   "source": [
    "conn=sqlite3.connect(\"AQI.db\")\n",
    "cursor=conn.cursor()\n",
    "# select min(rowid) returns the minimum rowID of the collection of 'sitename' and 'date' as primary key\n",
    "# if the rowid not in minimum of rowID, it's a duplicate data\n",
    "delete_duplicates = '''\n",
    "DELETE FROM records\n",
    "WHERE ROWID NOT IN (\n",
    "    SELECT MIN(ROWID)\n",
    "    FROM records\n",
    "    GROUP BY sitename, date\n",
    ")\n",
    "'''\n",
    "# execute it\n",
    "cursor.execute(delete_duplicates)\n",
    "conn.commit()\n",
    "# query the samples in db\n",
    "cursor.execute(\"SELECT * FROM records\")\n",
    "all_records = cursor.fetchall()\n",
    "print(\"去重後的資料長度:\", len(all_records))\n",
    "\n",
    "cursor.close()\n",
    "conn.close()\n",
    "# after removing the duplicates, excecute the cell of fetching duplicate again to double check if it do not contain duplicates.\n"
   ]
  },
  {
   "cell_type": "code",
   "execution_count": null,
   "metadata": {},
   "outputs": [
    {
     "name": "stdout",
     "output_type": "stream",
     "text": [
      "1000\n"
     ]
    }
   ],
   "source": [
    "print(len(data['records']))\n",
    "# why there's still 1000 records after removing the duplicated?\n",
    "# it may get the length of JSON file, not the database"
   ]
  },
  {
   "cell_type": "markdown",
   "metadata": {},
   "source": [
    "### HW -wait for github to be ready"
   ]
  },
  {
   "cell_type": "code",
   "execution_count": null,
   "metadata": {},
   "outputs": [],
   "source": []
  }
 ],
 "metadata": {
  "kernelspec": {
   "display_name": "240904TVDI",
   "language": "python",
   "name": "python3"
  },
  "language_info": {
   "codemirror_mode": {
    "name": "ipython",
    "version": 3
   },
   "file_extension": ".py",
   "mimetype": "text/x-python",
   "name": "python",
   "nbconvert_exporter": "python",
   "pygments_lexer": "ipython3",
   "version": "3.11.10"
  }
 },
 "nbformat": 4,
 "nbformat_minor": 2
}
