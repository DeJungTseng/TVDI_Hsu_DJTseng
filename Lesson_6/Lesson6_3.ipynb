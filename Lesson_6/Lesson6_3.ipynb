{
 "cells": [
  {
   "cell_type": "code",
   "execution_count": 7,
   "metadata": {},
   "outputs": [],
   "source": [
    "sql = '''\n",
    "CREATE TABLE IF NOT EXISTS records (\n",
    "    id INTEGER NOT NULL PRIMARY KEY AUTOINCREMENT,\n",
    "    sitename TEXT NOT NULL,\n",
    "    county TEXT,\n",
    "    aqi INTEGER,\n",
    "    status TEXT,\n",
    "    pm25 NUMERIC,\n",
    "    date TEXT,\n",
    "    lat NUMERIC,\n",
    "    lon NUMERIC\n",
    ");\n",
    "'''\n",
    "\n",
    "import sqlite3\n",
    "\n",
    "# Connect to SQLite database (or create it if it doesn't exist)\n",
    "conn = sqlite3.connect(\"AQI.db\")\n",
    "\n",
    "# Create a cursor object\n",
    "cursor = conn.cursor()\n",
    "\n",
    "# Create a table\n",
    "cursor.execute(sql)\n",
    "\n",
    "# Commit changes and close the connection\n",
    "conn.commit()\n",
    "cursor.close()\n",
    "conn.close()\n"
   ]
  },
  {
   "cell_type": "code",
   "execution_count": 9,
   "metadata": {},
   "outputs": [],
   "source": [
    "insertSQL='''\n",
    "INSERT INTO records(sitename,county,aqi,status,pm25,date,lat,lon)\n",
    "values('屏東(枋山)','屏東',17,'良好',10,'2024-10-28 13:00',22.260899,120.651472)\n",
    "\n",
    "'''\n",
    "conn = sqlite3.connect(\"AQI.db\")\n",
    "\n",
    "# Create a cursor object\n",
    "cursor = conn.cursor()\n",
    "\n",
    "# Create a table\n",
    "cursor.execute(insertSQL)\n",
    "\n",
    "# Commit changes and close the connection\n",
    "conn.commit()\n",
    "cursor.close()\n",
    "conn.close()"
   ]
  },
  {
   "cell_type": "markdown",
   "metadata": {},
   "source": [
    "### sql lite\n",
    "https://github.com/roberthsu2003/python-SQLite-MySQL/tree/master/sqlite/%E4%BD%BF%E7%94%A8python%E6%96%B0%E5%A2%9E%E8%B3%87%E6%96%99"
   ]
  }
 ],
 "metadata": {
  "kernelspec": {
   "display_name": "240904TVDI",
   "language": "python",
   "name": "python3"
  },
  "language_info": {
   "codemirror_mode": {
    "name": "ipython",
    "version": 3
   },
   "file_extension": ".py",
   "mimetype": "text/x-python",
   "name": "python",
   "nbconvert_exporter": "python",
   "pygments_lexer": "ipython3",
   "version": "3.11.10"
  }
 },
 "nbformat": 4,
 "nbformat_minor": 2
}
