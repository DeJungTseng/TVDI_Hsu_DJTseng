{
 "cells": [
  {
   "cell_type": "code",
   "execution_count": 3,
   "metadata": {},
   "outputs": [
    {
     "name": "stdout",
     "output_type": "stream",
     "text": [
      "['屏東縣', '宜蘭縣', '新北市', '臺南市', '高雄市', '彰化縣', '雲林縣', '臺東縣', '澎湖縣', '金門縣', '連江縣', '南投縣', '桃園市', '臺北市', '花蓮縣', '嘉義市', '嘉義縣', '臺中市', '苗栗縣', '新竹市', '新竹縣', '基隆市']\n"
     ]
    }
   ],
   "source": [
    "import sqlite3\n",
    "def get_county()->list[str]:\n",
    "    conn = sqlite3.connect(\"aqi.db\")\n",
    "\n",
    "    with conn:\n",
    "        cursor=conn.cursor()\n",
    "        sql='''\n",
    "            SELECT DISTINCT county\n",
    "            from records\n",
    "            '''\n",
    "        cursor.execute(sql)\n",
    "        counties=[items[0] for items in cursor.fetchall() ]\n",
    "        return counties\n",
    "counties=get_county()\n",
    "print(counties)"
   ]
  },
  {
   "cell_type": "code",
   "execution_count": null,
   "metadata": {},
   "outputs": [],
   "source": [
    "def get_selected_county(selected:str)->list[list]:\n",
    "    '''\n",
    "    使用者選擇了county，將county傳入\n",
    "    Parameters:\n",
    "        county:站點的名稱\n",
    "    Return:\n",
    "        關於鄉鎮的所有資料\n",
    "    '''\n",
    "    conn = sqlite3.connect(\"aqi.db\")\n",
    "    with conn:\n",
    "        cursor=conn.cursor()\n",
    "        sql='''\n",
    "            SELECT sitename,date,aqi,pm25,status,lat,lon \n",
    "            FROM records \n",
    "            WHERE county=?\n",
    "            ORDER BY date DESC ;\n",
    "            '''\n",
    "        cursor.execute(sql,(selected,))\n",
    "        county_list=[list(items) for items in cursor.fetchall()]\n",
    "        return county_list\n",
    "lst=get_selected_county('新北市')\n",
    "print(lst)"
   ]
  }
 ],
 "metadata": {
  "kernelspec": {
   "display_name": "240904TVDI",
   "language": "python",
   "name": "python3"
  },
  "language_info": {
   "codemirror_mode": {
    "name": "ipython",
    "version": 3
   },
   "file_extension": ".py",
   "mimetype": "text/x-python",
   "name": "python",
   "nbconvert_exporter": "python",
   "pygments_lexer": "ipython3",
   "version": "3.11.10"
  }
 },
 "nbformat": 4,
 "nbformat_minor": 2
}
