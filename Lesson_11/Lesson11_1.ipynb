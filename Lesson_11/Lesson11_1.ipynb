{
 "cells": [
  {
   "cell_type": "markdown",
   "metadata": {},
   "source": [
    "## python decorator\n"
   ]
  },
  {
   "cell_type": "markdown",
   "metadata": {},
   "source": [
    "### Function 作為引數值"
   ]
  },
  {
   "cell_type": "code",
   "execution_count": null,
   "metadata": {},
   "outputs": [
    {
     "data": {
      "text/plain": [
       "'相加後的值為6'"
      ]
     },
     "execution_count": 4,
     "metadata": {},
     "output_type": "execute_result"
    }
   ],
   "source": [
    "from typing import Callable\n",
    "\n",
    "MyFunctionType=Callable[[int, int], str]\n",
    "\n",
    "def my_function(a:int, b:int)->str:\n",
    "    return f\"相加後的值為{a+b}\"\n",
    "\n",
    "# set my_function as the argument of apply_function\n",
    "# need a type hint for func(可略)\n",
    "# Callable [[my_function's arguments type],my_function's return type]\n",
    "def apply_function(func:MyFunctionType,x:int,y:int)->str:\n",
    "    # need a type hint for func\n",
    "    return func(x, y)\n",
    "apply_function(my_function,1,5)"
   ]
  },
  {
   "cell_type": "markdown",
   "metadata": {},
   "source": [
    "## 把function 參考給變數"
   ]
  },
  {
   "cell_type": "code",
   "execution_count": 5,
   "metadata": {},
   "outputs": [
    {
     "name": "stdout",
     "output_type": "stream",
     "text": [
      "Hello World\n"
     ]
    }
   ],
   "source": [
    "def greet():\n",
    "    print(\"Hello World\")\n",
    "\n",
    "hello=greet\n",
    "hello()"
   ]
  },
  {
   "cell_type": "markdown",
   "metadata": {},
   "source": [
    "### 俄羅斯娃娃跳出來"
   ]
  },
  {
   "cell_type": "code",
   "execution_count": null,
   "metadata": {},
   "outputs": [],
   "source": [
    "# the outer function returns an inner function\n",
    "def outer_function():\n",
    "    print(\"我是outer_function\")\n",
    "    def inner_function():\n",
    "        print(\"我是inner_function\")\n",
    "    return inner_function\n"
   ]
  },
  {
   "cell_type": "code",
   "execution_count": null,
   "metadata": {},
   "outputs": [
    {
     "name": "stdout",
     "output_type": "stream",
     "text": [
      "我是outer_function\n"
     ]
    }
   ],
   "source": [
    "# assign the returned function to variable named my_function\n",
    "my_func=outer_function()"
   ]
  },
  {
   "cell_type": "code",
   "execution_count": null,
   "metadata": {},
   "outputs": [
    {
     "name": "stdout",
     "output_type": "stream",
     "text": [
      "我是inner_function\n"
     ]
    }
   ],
   "source": [
    "# call the returned inner function by call the variable my_func as function \n",
    "my_func()"
   ]
  },
  {
   "cell_type": "markdown",
   "metadata": {},
   "source": [
    "## integrate of functions\n"
   ]
  },
  {
   "cell_type": "code",
   "execution_count": null,
   "metadata": {},
   "outputs": [
    {
     "name": "stdout",
     "output_type": "stream",
     "text": [
      "Hello World\n"
     ]
    }
   ],
   "source": [
    "def say_hello():\n",
    "    print(\"Hello World\")\n",
    "\n",
    "# define a new function that 擴充 say_hello()'s function\n",
    "# decorator : make a decoration to other function\n",
    "\n",
    "def decorator_function(original_function):\n",
    "    def wrapper_function():\n",
    "        print(\"前面增加功能\")\n",
    "        original_function()\n",
    "        print(\"後面增加功能\")\n",
    "    return wrapper_function\n",
    "\n",
    "my_function = decorator_function(say_hello)\n",
    "# call the variable my_function as function\n",
    "my_function()\n",
    "# say_hello()\n"
   ]
  },
  {
   "cell_type": "code",
   "execution_count": 17,
   "metadata": {},
   "outputs": [
    {
     "name": "stdout",
     "output_type": "stream",
     "text": [
      "前面增加功能\n",
      "啾啾啾啾\n",
      "後面增加功能\n"
     ]
    }
   ],
   "source": [
    "def decorator_function(original_function):\n",
    "    def wrapper_function():\n",
    "        print(\"前面增加功能\")\n",
    "        original_function()\n",
    "        print(\"後面增加功能\")\n",
    "    return wrapper_function\n",
    "\n",
    "# call decorator function by @decorator\n",
    "@decorator_function\n",
    "def jujuju():\n",
    "    print(\"啾啾啾啾\")\n",
    "\n",
    "jujuju()"
   ]
  },
  {
   "cell_type": "code",
   "execution_count": 22,
   "metadata": {},
   "outputs": [
    {
     "name": "stdout",
     "output_type": "stream",
     "text": [
      "Slow function executed\n",
      "slow_function 花費總時間為 2.0026\n"
     ]
    }
   ],
   "source": [
    "import time\n",
    "\n",
    "def timer_decorator(func):\n",
    "    def wrapper():\n",
    "        start_time = time.time()\n",
    "        func()  # Call the original function\n",
    "        end_time = time.time()\n",
    "        print(f\"{func.__name__} 花費總時間為 {end_time - start_time:.4f}\")\n",
    "    return wrapper  # Return the wrapper function\n",
    "\n",
    "@timer_decorator\n",
    "def slow_function():\n",
    "    time.sleep(2)\n",
    "    print(\"Slow function executed\")\n",
    "\n",
    "slow_function()  # Call the decorated function\n"
   ]
  }
 ],
 "metadata": {
  "kernelspec": {
   "display_name": "240904TVDI",
   "language": "python",
   "name": "python3"
  },
  "language_info": {
   "codemirror_mode": {
    "name": "ipython",
    "version": 3
   },
   "file_extension": ".py",
   "mimetype": "text/x-python",
   "name": "python",
   "nbconvert_exporter": "python",
   "pygments_lexer": "ipython3",
   "version": "3.11.10"
  }
 },
 "nbformat": 4,
 "nbformat_minor": 2
}
