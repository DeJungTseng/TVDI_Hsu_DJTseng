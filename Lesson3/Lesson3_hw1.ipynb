{
 "cells": [
  {
   "cell_type": "code",
   "execution_count": null,
   "metadata": {},
   "outputs": [],
   "source": [
    "import requests\n",
    "#a1.csv\n",
    "url = 'https://data.moi.gov.tw/MoiOD/System/DownloadFile.aspx?DATA=5481753E-52AF-40DA-9A8A-9E192B245E13'"
   ]
  },
  {
   "cell_type": "code",
   "execution_count": null,
   "metadata": {},
   "outputs": [],
   "source": [
    "#a2.json\n",
    "url = 'https://data.moi.gov.tw/MoiOD/System/DownloadFile.aspx?DATA=44E49A04-8DE8-4E74-B872-BE322286C940'"
   ]
  },
  {
   "cell_type": "code",
   "execution_count": null,
   "metadata": {},
   "outputs": [],
   "source": [
    "#a3.jpg\n",
    "url = 'https://media.gq.com.tw/photos/6666a988382caac8581d3969/16:9/w_2240,c_limit/08120706-hierarchy-101-unit-s30j2v030_cover_1600x1067%20%E6%8B%B7%E8%B2%9D.jpg'"
   ]
  }
 ],
 "metadata": {
  "kernelspec": {
   "display_name": "240904TVDI",
   "language": "python",
   "name": "python3"
  },
  "language_info": {
   "name": "python",
   "version": "3.11.10"
  }
 },
 "nbformat": 4,
 "nbformat_minor": 2
}
