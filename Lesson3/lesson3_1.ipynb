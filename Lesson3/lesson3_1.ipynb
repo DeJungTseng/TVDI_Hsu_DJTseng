{
 "cells": [
  {
   "cell_type": "code",
   "execution_count": 14,
   "metadata": {},
   "outputs": [],
   "source": [
    "#建立class\n",
    "class Eagle(object):\n",
    "    #自訂inatial\n",
    "    def __init__(self,name:str,age:int):#初始化:建立class中的實體。實體的值由self傳進來\n",
    "        self.name=name #實體的attribute，透過attribute儲存實體的參數\n",
    "        self.age=age #a:int為型別提示\n",
    "        pass\n",
    "    #自訂實體被print時的輸出\n",
    "    def __repr__(self)->str:#repr 輸出實體的attribute`。用->來指定類型\n",
    "        return f\"學名:{self.name}\\n年紀:{self.age}\"\n",
    "\n",
    "        pass"
   ]
  },
  {
   "cell_type": "code",
   "execution_count": 15,
   "metadata": {},
   "outputs": [
    {
     "name": "stdout",
     "output_type": "stream",
     "text": [
      "學名:Little Black\n",
      "年紀:23\n",
      "學名:Expresso\n",
      "年紀:33\n"
     ]
    }
   ],
   "source": [
    "#初始化\n",
    "#建立Eagle class的實體，預設繼承object\n",
    "b_eagle=Eagle(name='Little Black',age=23)#建立一個實體blackeagle。blackeagle:Eagle\n",
    "print(b_eagle)\n",
    "c_eagle=Eagle(name='Expresso',age=33)\n",
    "print(c_eagle)\n",
    "\n"
   ]
  },
  {
   "cell_type": "code",
   "execution_count": 16,
   "metadata": {},
   "outputs": [
    {
     "name": "stdout",
     "output_type": "stream",
     "text": [
      "Help on class Eagle in module __main__:\n",
      "\n",
      "class Eagle(builtins.object)\n",
      " |  Eagle(name: str, age: int)\n",
      " |  \n",
      " |  Methods defined here:\n",
      " |  \n",
      " |  __init__(self, name: str, age: int)\n",
      " |      Initialize self.  See help(type(self)) for accurate signature.\n",
      " |  \n",
      " |  __repr__(self) -> str\n",
      " |      Return repr(self).\n",
      " |  \n",
      " |  ----------------------------------------------------------------------\n",
      " |  Data descriptors defined here:\n",
      " |  \n",
      " |  __dict__\n",
      " |      dictionary for instance variables\n",
      " |  \n",
      " |  __weakref__\n",
      " |      list of weak references to the object\n",
      "\n"
     ]
    }
   ],
   "source": [
    "#help函式輸出類別的attribute與引數與回傳值\n",
    "help(Eagle)"
   ]
  }
 ],
 "metadata": {
  "kernelspec": {
   "display_name": "240904TVDI",
   "language": "python",
   "name": "python3"
  },
  "language_info": {
   "codemirror_mode": {
    "name": "ipython",
    "version": 3
   },
   "file_extension": ".py",
   "mimetype": "text/x-python",
   "name": "python",
   "nbconvert_exporter": "python",
   "pygments_lexer": "ipython3",
   "version": "3.11.10"
  }
 },
 "nbformat": 4,
 "nbformat_minor": 2
}
