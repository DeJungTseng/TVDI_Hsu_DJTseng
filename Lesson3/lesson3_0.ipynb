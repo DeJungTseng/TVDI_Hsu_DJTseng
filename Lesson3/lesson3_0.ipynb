{
 "cells": [
  {
   "cell_type": "markdown",
   "metadata": {},
   "source": [
    "# 老師的講解\n",
    "*心得:先去為了輸出內容找CSV MODULE相關的功能跟CLASS()"
   ]
  },
  {
   "cell_type": "code",
   "execution_count": 9,
   "metadata": {},
   "outputs": [
    {
     "name": "stdout",
     "output_type": "stream",
     "text": [
      "<class 'list'>\n",
      "{'Name': '老鷹', 'age': '33', 'add': '台北市', 'hobbit': '肚子餓'}\n",
      "{'Name': '兔兔', 'age': '44', 'add': '新北市', 'hobbit': '跳跳'}\n",
      "{'Name': '喵喵', 'age': '22', 'add': '台中市', 'hobbit': '翻肚'}\n",
      "{'Name': '海豹', 'age': '33', 'add': '阿拉斯加', 'hobbit': '滾動'}\n",
      "{'Name': '海獺', 'age': '33', 'add': '彰化縣', 'hobbit': '寫講義'}\n",
      "{'Name': '老鷹', 'age': '33', 'add': '台北市', 'hobbit': '肚子餓'}\n",
      "{'Name': '兔兔', 'age': '44', 'add': '新北市', 'hobbit': '跳跳'}\n",
      "{'Name': '海豹', 'age': '33', 'add': '阿拉斯加', 'hobbit': '滾動'}\n",
      "{'Name': '海獺', 'age': '33', 'add': '彰化縣', 'hobbit': '寫講義'}\n"
     ]
    }
   ],
   "source": [
    "import csv\n",
    "with open('student.csv',encoding='utf-8',newline='') as file:\n",
    "    reader_dict=list(csv.DictReader(file)) #把file放進dictreader class，存入list中佔記憶體空間\n",
    "    print(type(reader_dict))\n",
    "    for item in reader_dict:\n",
    "        print(item)\n",
    "    lst_over25=[]#將篩選出來的item存進list中，global變數\n",
    "    for item in reader_dict:\n",
    "        if int(item['age']) >25:\n",
    "            print(item)\n",
    "            lst_over25.append(item)\n"
   ]
  },
  {
   "cell_type": "markdown",
   "metadata": {},
   "source": [
    "## 將篩選的list寫入新檔案\n",
    "* 注意function所需的引數有哪幾個\n",
    "* writerow(item)就直接丟item進去，不會遇到dictionary問題"
   ]
  },
  {
   "cell_type": "code",
   "execution_count": 11,
   "metadata": {},
   "outputs": [],
   "source": [
    "with open('lst_over25.csv', 'w', newline='') as file: \n",
    "    fieldnames = ['Name','age','add','hobbit']\n",
    "    writer = csv.DictWriter(file, fieldnames=fieldnames)#fieldnames為DictwRITER的必要引數，第一個是呼叫function用引數\n",
    "\n",
    "    writer.writeheader()\n",
    "    for item in lst_over25:\n",
    "        writer.writerow(item)\n",
    "\n",
    "\n"
   ]
  }
 ],
 "metadata": {
  "kernelspec": {
   "display_name": "240904TVDI",
   "language": "python",
   "name": "python3"
  },
  "language_info": {
   "codemirror_mode": {
    "name": "ipython",
    "version": 3
   },
   "file_extension": ".py",
   "mimetype": "text/x-python",
   "name": "python",
   "nbconvert_exporter": "python",
   "pygments_lexer": "ipython3",
   "version": "3.11.10"
  }
 },
 "nbformat": 4,
 "nbformat_minor": 2
}
