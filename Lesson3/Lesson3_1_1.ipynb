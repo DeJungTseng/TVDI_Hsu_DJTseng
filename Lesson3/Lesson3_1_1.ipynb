{
 "cells": [
  {
   "cell_type": "code",
   "execution_count": 26,
   "metadata": {},
   "outputs": [],
   "source": [
    "#建立class\n",
    "class Eagle(object):\n",
    "    #自訂inatial\n",
    "    def __init__(self,name:str,age:int):\n",
    "        self.__name=name #__name，__代表private。attribute值需要透過setter，符合條件才可設定此attribute值\n",
    "        self.__age=age #private attribute。若public attribute代表object可以直接修改attribute。\n",
    "        pass\n",
    "    #自訂實體被print時的輸出\n",
    "    def __repr__(self)->str:\n",
    "        return f\"學名:{self.name}\\n年紀:{self.age}\"\n",
    "    @property #註冊property，取得attribute的值=getter\n",
    "    def name(self)->str:#property，read only\n",
    "        return self.__name #存取att__name輸出\n",
    "    @name.setter #可接收property的name可接收property的name\n",
    "    def name(self, n):#n為name傳進為nameproperty傳進來的值由n接收\n",
    "        print(f\"不不可以改名為{n}\")\n",
    "    @property\n",
    "    def age(self)->int:#property getter\n",
    "        return self.__age\n",
    "    @age.setter #property setter。若private attribute，符合setter設定條件時，可以修改attribute的值。\n",
    "    def age(self,value):\n",
    "        if value >100 or value<0: #\n",
    "            print(\"Invalid value\")\n",
    "        else:\n",
    "            self.__age=value #object set value符合setter設定條件時，可以修改attribute的值"
   ]
  },
  {
   "cell_type": "code",
   "execution_count": 29,
   "metadata": {},
   "outputs": [
    {
     "name": "stdout",
     "output_type": "stream",
     "text": [
      "不不可以改名為小黑\n"
     ]
    },
    {
     "ename": "AttributeError",
     "evalue": "'Eagle' object has no attribute '__age'",
     "output_type": "error",
     "traceback": [
      "\u001b[1;31m---------------------------------------------------------------------------\u001b[0m",
      "\u001b[1;31mAttributeError\u001b[0m                            Traceback (most recent call last)",
      "Cell \u001b[1;32mIn[29], line 5\u001b[0m\n\u001b[0;32m      3\u001b[0m b_eagle\u001b[38;5;241m=\u001b[39mEagle(name\u001b[38;5;241m=\u001b[39m\u001b[38;5;124m'\u001b[39m\u001b[38;5;124mLittle Black\u001b[39m\u001b[38;5;124m'\u001b[39m,age\u001b[38;5;241m=\u001b[39m\u001b[38;5;241m23\u001b[39m)\u001b[38;5;66;03m#建立一個實體blackeagle。blackeagle:Eagle\u001b[39;00m\n\u001b[0;32m      4\u001b[0m b_eagle\u001b[38;5;241m.\u001b[39mname\u001b[38;5;241m=\u001b[39m\u001b[38;5;124m\"\u001b[39m\u001b[38;5;124m小黑\u001b[39m\u001b[38;5;124m\"\u001b[39m\n\u001b[1;32m----> 5\u001b[0m \u001b[38;5;28mprint\u001b[39m(\u001b[38;5;124mf\u001b[39m\u001b[38;5;124m\"\u001b[39m\u001b[38;5;124m原本的年紀為\u001b[39m\u001b[38;5;132;01m{\u001b[39;00m\u001b[43mb_eagle\u001b[49m\u001b[38;5;241;43m.\u001b[39;49m\u001b[43m__age\u001b[49m\u001b[38;5;132;01m}\u001b[39;00m\u001b[38;5;124m\"\u001b[39m)\u001b[38;5;66;03m#原本的age為23\u001b[39;00m\n\u001b[0;32m      6\u001b[0m b_eagle\u001b[38;5;241m.\u001b[39mage\u001b[38;5;241m=\u001b[39m\u001b[38;5;241m20\u001b[39m \u001b[38;5;66;03m#age在在範圍內時，符合setter設定條件，可以透過實體改變private的值\u001b[39;00m\n\u001b[0;32m      7\u001b[0m \u001b[38;5;28mprint\u001b[39m(b_eagle\u001b[38;5;241m.\u001b[39m__age)\n",
      "\u001b[1;31mAttributeError\u001b[0m: 'Eagle' object has no attribute '__age'"
     ]
    }
   ],
   "source": [
    "#初始化\n",
    "#建立Eagle class的實體，預設繼承object\n",
    "b_eagle=Eagle(name='Little Black',age=23)#建立一個實體blackeagle。blackeagle:Eagle\n",
    "b_eagle.name=\"小黑\"\n",
    "print(f\"原本的年紀為{b_eagle.age}\")#原本的age為23\n",
    "b_eagle.age=20 #age在在範圍內時，符合setter設定條件，可以透過實體改變private的值\n",
    "print(b_eagle.age)"
   ]
  }
 ],
 "metadata": {
  "kernelspec": {
   "display_name": "240904TVDI",
   "language": "python",
   "name": "python3"
  },
  "language_info": {
   "codemirror_mode": {
    "name": "ipython",
    "version": 3
   },
   "file_extension": ".py",
   "mimetype": "text/x-python",
   "name": "python",
   "nbconvert_exporter": "python",
   "pygments_lexer": "ipython3",
   "version": "3.11.10"
  }
 },
 "nbformat": 4,
 "nbformat_minor": 2
}
