{
 "cells": [
  {
   "cell_type": "code",
   "execution_count": 1,
   "metadata": {},
   "outputs": [],
   "source": [
    "#建立class\n",
    "class Eagle(object):\n",
    "    #自訂inatial\n",
    "    def __init__(self,name:str,age:int):\n",
    "        self.__name=name #__name，__代表private。attribute值需要透過setter，符合條件才可設定此attribute值\n",
    "        self.__age=age #private attribute。若public attribute代表object可以直接修改attribute。\n",
    "        pass\n",
    "    #自訂實體被print時的輸出\n",
    "    def __repr__(self)->str:\n",
    "        return f\"學名:{self.name}\\n年紀:{self.age}\"\n",
    "    @property #註冊property，取得attribute的值=getter\n",
    "    def name(self)->str:#property，read only\n",
    "        return self.__name #存取att__name輸出\n",
    "    @name.setter #可接收property的name可接收property的name\n",
    "    def name(self, n):#n為name傳進為nameproperty傳進來的值由n接收\n",
    "        print(f\"不不可以改名為{n}\")\n",
    "    @property\n",
    "    def age(self)->int:#property getter\n",
    "        return self.__age\n",
    "    @age.setter #property setter。若private attribute，符合setter設定條件時，可以修改attribute的值。\n",
    "    def age(self,value):\n",
    "        if value >100 or value<0: #\n",
    "            print(\"Invalid value\")\n",
    "        else:\n",
    "            self.__age=value #object set value符合setter設定條件時，可以修改attribute的值"
   ]
  },
  {
   "cell_type": "code",
   "execution_count": 19,
   "metadata": {},
   "outputs": [],
   "source": [
    "#子類別\n",
    "#繼承是為了擴充父類別功能\n",
    "class JUEagle(Eagle):#繼承自Eagle\n",
    "    @classmethod#不需要實體，只需要class就可執行\n",
    "    def echo(cls):\n",
    "        print(\"I'm JUEagle\")\n",
    "    #初始化建立實體\n",
    "    def __init__(self, name, age, height:int=0, weight:int=0, wingspan:int=0):\n",
    "        #除了父類別的name,age參數，多其他引數。有預設值的話寫在最後面\n",
    "        super().__init__(name=name, age=age)#super()代表執行父類別的初始化。引數=父類別的參數，\n",
    "        self.height=height\n",
    "        self.weight=weight\n",
    "        self.wingspan=wingspan\n",
    "        #繼承後，再設定其他attribute\n",
    "    @property\n",
    "    def BMI (self)->float:\n",
    "        return self.weight/((self.height/100)**2)\n",
    "    \n",
    "    #實體方法instance method\n",
    "    def w_ratio (self)->float:#每公分翅膀乘載多少體重(?)\n",
    "        return round(self.weight/self.wingspan,ndigits=2)"
   ]
  },
  {
   "cell_type": "code",
   "execution_count": 20,
   "metadata": {},
   "outputs": [
    {
     "name": "stdout",
     "output_type": "stream",
     "text": [
      "I'm JUEagle\n"
     ]
    }
   ],
   "source": [
    "JUEagle.echo()\n",
    "#只需要呼叫class就可以執行"
   ]
  },
  {
   "cell_type": "code",
   "execution_count": 16,
   "metadata": {},
   "outputs": [
    {
     "name": "stdout",
     "output_type": "stream",
     "text": [
      "<class '__main__.JUEagle'>\n",
      "153\n",
      "44\n",
      "150\n",
      "18.79618949976505\n",
      "0.29\n"
     ]
    }
   ],
   "source": [
    "eagle1=JUEagle(name=\"little black\",age=3,height=153,weight=44,wingspan=150)\n",
    "print(type(eagle1))\n",
    "print(eagle1.height)\n",
    "print(eagle1.weight)\n",
    "print(eagle1.wingspan)\n",
    "print(eagle1.BMI)\n",
    "print(eagle1.w_ratio())#instance method()"
   ]
  }
 ],
 "metadata": {
  "kernelspec": {
   "display_name": "240904TVDI",
   "language": "python",
   "name": "python3"
  },
  "language_info": {
   "codemirror_mode": {
    "name": "ipython",
    "version": 3
   },
   "file_extension": ".py",
   "mimetype": "text/x-python",
   "name": "python",
   "nbconvert_exporter": "python",
   "pygments_lexer": "ipython3",
   "version": "3.11.10"
  }
 },
 "nbformat": 4,
 "nbformat_minor": 2
}
