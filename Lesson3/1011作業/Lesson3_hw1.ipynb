{
 "cells": [
  {
   "cell_type": "code",
   "execution_count": 19,
   "metadata": {},
   "outputs": [
    {
     "name": "stdout",
     "output_type": "stream",
     "text": [
      "<class 'str'>\n"
     ]
    }
   ],
   "source": [
    "import requests\n",
    "from requests import Response\n",
    "#a1.csv\n",
    "url = 'https://data.moi.gov.tw/MoiOD/System/DownloadFile.aspx?DATA=5481753E-52AF-40DA-9A8A-9E192B245E13'\n",
    "response:Response=requests.get(url)\n",
    "csv_content=response.text #以text attribute得到 file content\n",
    "print(type(csv_content)) #由response.text attribute得到的內容為string\n",
    "with open('a1.csv','w',newline='',encoding='UTF-8') as csvfile:#csvfile開啟時需要newline\n",
    "    csvfile.write(csv_content)#直接將csv_content寫入csvfile中\n"
   ]
  },
  {
   "cell_type": "code",
   "execution_count": 9,
   "metadata": {},
   "outputs": [
    {
     "name": "stdout",
     "output_type": "stream",
     "text": [
      "<class 'list'>\n"
     ]
    }
   ],
   "source": [
    "#a2.json\n",
    "import json\n",
    "url = 'https://data.moi.gov.tw/MoiOD/System/DownloadFile.aspx?DATA=44E49A04-8DE8-4E74-B872-BE322286C940'\n",
    "response:Response=requests.get(url)\n",
    "json_content=response.json()#以response.json()實體功能將response回傳json格式內容\n",
    "print(type(json_content))#type為list\n",
    "with open('a2.json','w',encoding='UTF-8') as jsonfile:\n",
    "    json.dump(json_content,jsonfile,indent=4)#用dump功能將符合json格式的表(json_content)寫入json文件中。注意縮排。\n",
    "    "
   ]
  },
  {
   "cell_type": "code",
   "execution_count": 18,
   "metadata": {},
   "outputs": [
    {
     "name": "stdout",
     "output_type": "stream",
     "text": [
      "<class 'bytes'>\n"
     ]
    }
   ],
   "source": [
    "#a3.jpg\n",
    "url = 'https://media.gq.com.tw/photos/6666a988382caac8581d3969/16:9/w_2240,c_limit/08120706-hierarchy-101-unit-s30j2v030_cover_1600x1067%20%E6%8B%B7%E8%B2%9D.jpg'\n",
    "response:Response=requests.get(url,stream=True)#stream=True 以取得raw data\n",
    "img=response.raw.read()#使用raw以取得file-like object。加上read() function把取得的raw response進行讀取以回傳byte object.\n",
    "print(type(img))\n",
    "with open('a3.jpg','wb') as file: #mode=write,以bytes物件回傳，不進行解碼\n",
    "    file.write(img)#需寫入byte object"
   ]
  }
 ],
 "metadata": {
  "kernelspec": {
   "display_name": "240904TVDI",
   "language": "python",
   "name": "python3"
  },
  "language_info": {
   "codemirror_mode": {
    "name": "ipython",
    "version": 3
   },
   "file_extension": ".py",
   "mimetype": "text/x-python",
   "name": "python",
   "nbconvert_exporter": "python",
   "pygments_lexer": "ipython3",
   "version": "3.11.10"
  }
 },
 "nbformat": 4,
 "nbformat_minor": 2
}
